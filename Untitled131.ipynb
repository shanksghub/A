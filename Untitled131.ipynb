{
  "nbformat": 4,
  "nbformat_minor": 0,
  "metadata": {
    "colab": {
      "name": "Untitled131.ipynb",
      "provenance": [],
      "collapsed_sections": [],
      "authorship_tag": "ABX9TyMccxtwqaKYNfaYcA0+jVKO",
      "include_colab_link": true
    },
    "kernelspec": {
      "name": "python3",
      "display_name": "Python 3"
    },
    "language_info": {
      "name": "python"
    }
  },
  "cells": [
    {
      "cell_type": "markdown",
      "metadata": {
        "id": "view-in-github",
        "colab_type": "text"
      },
      "source": [
        "<a href=\"https://colab.research.google.com/github/shanksghub/A/blob/main/Untitled131.ipynb\" target=\"_parent\"><img src=\"https://colab.research.google.com/assets/colab-badge.svg\" alt=\"Open In Colab\"/></a>"
      ]
    },
    {
      "cell_type": "code",
      "source": [
        ""
      ],
      "metadata": {
        "id": "fNQJguMiKplS"
      },
      "execution_count": null,
      "outputs": []
    },
    {
      "cell_type": "code",
      "source": [
        ""
      ],
      "metadata": {
        "id": "CPnp72M7Kpfl"
      },
      "execution_count": null,
      "outputs": []
    },
    {
      "cell_type": "code",
      "source": [
        ""
      ],
      "metadata": {
        "id": "rO2odDAjKpc2"
      },
      "execution_count": null,
      "outputs": []
    },
    {
      "cell_type": "code",
      "source": [
        "###Example of a Genetic Algirthm for TSP - RECOMMEND YOU ONLY CHANGE THE PARTS NEAR END (HIGHLIGHTED)\n",
        "\n",
        "import sys, math, random, heapq\n",
        "import matplotlib.pyplot as plt\n",
        "from itertools import chain\n",
        "\n",
        "if sys.version_info < (3, 0):\n",
        "   sys.exit(\"\"\"Sorry, requires Python 3.x, not Python 2.x.\"\"\")\n",
        "\n",
        "class Graph:\n",
        "\n",
        "    def __init__(self, vertices):\n",
        "        self.vertices = vertices\n",
        "        self.n = len(vertices)\n",
        "\n",
        "    def x(self, v):\n",
        "        return self.vertices[v][0]\n",
        "\n",
        "    def y(self, v):\n",
        "        return self.vertices[v][1]\n",
        "\n",
        "    # Lookup table for distances\n",
        "    _d_lookup = {}\n",
        "\n",
        "    def d(self, u, v):\n",
        "        \"\"\"Euclidean Metric d_2((x1, y1), (x2, y2))\"\"\"\n",
        "\n",
        "        # Check if the distance was computed before\n",
        "        if (u, v) in self._d_lookup:\n",
        "            return self._d_lookup[(u, v)]\n",
        "\n",
        "        # Otherwise compute it\n",
        "        _distance = math.sqrt((u[0] - v[0])**2 + (u[1] - v[1])**2)\n",
        "\n",
        "        # Add to dictionary\n",
        "        self._d_lookup[(u, v)], self._d_lookup[(v, u)] = _distance, _distance\n",
        "        return _distance\n",
        "\n",
        "    def plot(self, tour=None):\n",
        "        \"\"\"Plots the cities and superimposes given tour\"\"\"\n",
        "        if tour is None:\n",
        "            tour = Tour(self, [])\n",
        "\n",
        "        _vertices = [self.vertices[0]]\n",
        "\n",
        "        for i in tour.vertices:\n",
        "            _vertices.append(self.vertices[i])\n",
        "\n",
        "        _vertices.append(self.vertices[0])\n",
        "\n",
        "        plt.title(\"Cost = \" + str(tour.cost()))\n",
        "        plt.plot(*zip(*_vertices), '-r')\n",
        "        plt.scatter(*zip(*self.vertices), c=\"b\", s=10, marker=\"s\")\n",
        "        plt.show()\n",
        "\n",
        "\n",
        "##### Calculates the distance of a given (full) path\n",
        "class Tour:\n",
        "\n",
        "    def __init__(self, g, vertices = None):\n",
        "        \"\"\"Generate random tour in given graph g\"\"\"\n",
        "\n",
        "        self.g = g\n",
        "\n",
        "        if vertices is None:\n",
        "            self.vertices = list(range(1, g.n))\n",
        "            random.shuffle(self.vertices)\n",
        "        else:\n",
        "            self.vertices = vertices\n",
        "\n",
        "        self.__cost = None\n",
        "\n",
        "    def cost(self):\n",
        "        \"\"\"Return total edge-cost of tour\"\"\"\n",
        "\n",
        "        if self.__cost is None:\n",
        "            self.__cost = 0\n",
        "            for i, j in zip([0] + self.vertices, self.vertices + [0]):\n",
        "                self.__cost += self.g.d(self.g.vertices[i], self.g.vertices[j])\n",
        "        return self.__cost\n",
        "\n",
        "##### Main GA parameters (Probability of creating each type of child)\n",
        "class GeneticAlgorithm:\n",
        "\n",
        "    def __init__(self, g, population_size, k=5, elite_mating_rate=0.5,\n",
        "                 mutation_rate=0.015, mutation_swap_rate=0.2):   #Probability of each type of child being created\n",
        "        \"\"\"Initialises algorithm parameters\"\"\"\n",
        "\n",
        "        self.g = g\n",
        "        \n",
        "        self.population = []\n",
        "        for _ in range(population_size):\n",
        "            self.population.append(Tour(g))\n",
        "\n",
        "        self.population_size = population_size\n",
        "        self.k = k\n",
        "        self.elite_mating_rate = elite_mating_rate\n",
        "        self.mutation_rate = mutation_rate\n",
        "        self.mutation_swap_rate = mutation_swap_rate\n",
        "\n",
        "##### Crossover - as described in Teaching Material (Week 10 = AI)\n",
        "    def crossover(self, mum, dad):\n",
        "        \"\"\"Implements ordered crossover\"\"\"\n",
        "\n",
        "        size = len(mum.vertices)\n",
        "\n",
        "        # Choose random start/end position for crossover\n",
        "        alice, bob = [-1] * size, [-1] * size\n",
        "        start, end = sorted([random.randrange(size) for _ in range(2)])\n",
        "\n",
        "        # Replicate mum's sequence for alice, dad's sequence for bob\n",
        "        for i in range(start, end + 1):\n",
        "            alice[i] = mum.vertices[i]\n",
        "            bob[i] = dad.vertices[i]\n",
        "\n",
        "        # Fill the remaining position with the other parents' entries\n",
        "        current_dad_position, current_mum_position = 0, 0\n",
        "\n",
        "        for i in chain(range(start), range(end + 1, size)):\n",
        "\n",
        "            while dad.vertices[current_dad_position] in alice:\n",
        "                current_dad_position += 1\n",
        "\n",
        "            while mum.vertices[current_mum_position] in bob:\n",
        "                current_mum_position += 1\n",
        "\n",
        "            alice[i] = dad.vertices[current_dad_position]\n",
        "            bob[i] = mum.vertices[current_mum_position]\n",
        "\n",
        "        # Return twins\n",
        "        return Tour(self.g, alice), Tour(self.g, bob)\n",
        "\n",
        "##### Mutation - as done in TSP_HillClimb.py and described in Teaching Material (Week 9)\n",
        "    def mutate(self, tour):\n",
        "        \"\"\"Randomly swaps pairs of cities in a given tour according to mutation rate\"\"\"\n",
        "\n",
        "        # Decide whether to mutate\n",
        "        if random.random() < self.mutation_rate:\n",
        "\n",
        "            # For each vertex\n",
        "            for i in range(len(tour.vertices)):\n",
        "\n",
        "                # Randomly decide whether to swap\n",
        "                if random.random() < self.mutation_swap_rate:\n",
        "\n",
        "                    # Randomly choose other city position\n",
        "                    j = random.randrange(len(tour.vertices))\n",
        "\n",
        "                    # Swap\n",
        "                    tour.vertices[i], tour.vertices[j] = tour.vertices[j], tour.vertices[i]\n",
        "\n",
        "##### Selects the fittest parents\n",
        "    def select_parent(self, k):\n",
        "        \"\"\"Implements k-tournament selection to choose parents\"\"\"\n",
        "        tournament = random.sample(self.population, k)\n",
        "        return max(tournament, key=lambda t: t.cost())\n",
        "\n",
        "##### Checks fitness of parents/child and creates new population\n",
        "    def evolve(self):\n",
        "        \"\"\"Executes one iteration of the genetic algorithm to obtain a new generation\"\"\"\n",
        "\n",
        "        new_population = []\n",
        "\n",
        "        for _ in range(self.population_size):\n",
        "\n",
        "            # K-tournament for parents\n",
        "            mum, dad = self.select_parent(self.k), self.select_parent(self.k)\n",
        "            alice, bob = self.crossover(mum, dad)\n",
        "\n",
        "            # Mate in an elite fashion according to the elitism_rate\n",
        "            if random.random() < self.elite_mating_rate:\n",
        "                if alice.cost() < mum.cost() or alice.cost() < dad.cost():\n",
        "                    new_population.append(alice)\n",
        "                if bob.cost() < mum.cost() or bob.cost() < dad.cost():\n",
        "                    new_population.append(bob)\n",
        "\n",
        "            else:\n",
        "                self.mutate(alice)\n",
        "                self.mutate(bob)\n",
        "                new_population += [alice, bob]\n",
        "\n",
        "        # Add new population to old\n",
        "        self.population += new_population\n",
        "\n",
        "        # Retain fittest\n",
        "        self.population = heapq.nsmallest(self.population_size, self.population, key=lambda t: t.cost())\n",
        "\n",
        "###########################################################################\n",
        "##### IMPORTANT ##### number of generations\n",
        "\n",
        "    def run(self, iterations=200):  #Number of Generations: more = better, but takes longer\n",
        "        for _ in range(iterations):\n",
        "            self.evolve()\n",
        "\n",
        "    def best(self):\n",
        "        return max(self.population, key=lambda t: t.cost())\n",
        "\n",
        "###########################################################################\n",
        "##### IMPORTANT ##### The data for the Question\n",
        "\n",
        "g = Graph([(73.1817470551995,42.0285954296223),\n",
        "           (90.8971962770689,72.6439611285086),\t\t\t\n",
        "(33.86168368335,25.3593730700641),\n",
        "(37.6105020952811,50.5648642532894),\n",
        "(94.1041534254341,12.2284468976924),\n",
        "(52.5421770712729,46.1079951946237),\t\n",
        "(4.36025048478595,19.8891244405433),\t\t\n",
        "(82.141108510899,49.206166784107),\t\t#\n",
        "(22.0757382980061,42.0458705004164),\t\t\t\n",
        "(48.039399290203,69.8632165852765),\t\t\t\n",
        "(46.7438178442938,37.1248715385984),\t\t\t\n",
        "(57.7102187574938,76.9610339716859),\t\t\t\n",
        "(16.7414536355628,16.5160503087941),\t\t\t\n",
        "(75.1446122718255,57.1376740230397),\t\t\t\n",
        "(44.0381681668617,49.29169136708),\t\t\t\n",
        "(45.0885991859118,58.2955216096463),])\n",
        "\n",
        "########################################################################### \n",
        "##### IMPORTANT ##### population size\n",
        "\n",
        "ga = GeneticAlgorithm(g, 100)    #Inputs (graph co-ordinates, POPULATION SIZE)  more = better, but takes longer\n",
        "ga.run()\n",
        "\n",
        "\n",
        "########## Output\n",
        "best_tour = ga.best()\n",
        "g.plot(best_tour)   #Plots the path on a graph\n",
        "\n",
        "best_path = best_tour.vertices\n",
        "size = len (g.vertices)\n",
        "for i in range(size-1):\n",
        "    best_path[i]=best_path[i]+1   #Must +1 to nodes to chnage numbering from (0,n-1) to (1,n)\n",
        "best_path.insert(0,1)   #Adds start node to the list\n",
        "print(best_path,best_tour._Tour__cost)   #Prints the best path and distance\n"
      ],
      "metadata": {
        "id": "nEsl2l_pKpae",
        "colab": {
          "base_uri": "https://localhost:8080/",
          "height": 298
        },
        "outputId": "1eec1b60-91a3-4b95-b330-3a9edc6b1856"
      },
      "execution_count": 80,
      "outputs": [
        {
          "output_type": "display_data",
          "data": {
            "text/plain": [
              "<Figure size 432x288 with 1 Axes>"
            ],
            "image/png": "[encoded data removed]"
          },
          "metadata": {
            "needs_background": "light"
          }
        },
        {
          "output_type": "stream",
          "name": "stdout",
          "text": [
            "[1, 5, 11, 3, 13, 7, 9, 4, 15, 6, 16, 10, 12, 2, 14, 8] 317.0307023461423\n"
          ]
        }
      ]
    },
    {
      "cell_type": "code",
      "source": [
        "18,16,12,4,6,5,20,23"
      ],
      "metadata": {
        "id": "qj6bwO6uKpVd"
      },
      "execution_count": null,
      "outputs": []
    },
    {
      "cell_type": "code",
      "source": [
        ""
      ],
      "metadata": {
        "id": "k5CfU-RtUmbP"
      },
      "execution_count": null,
      "outputs": []
    },
    {
      "cell_type": "code",
      "source": [
        "###Example of a Genetic Algirthm for TSP - RECOMMEND YOU ONLY CHANGE THE PARTS NEAR END (HIGHLIGHTED)\n",
        "\n",
        "import sys, math, random, heapq\n",
        "import matplotlib.pyplot as plt\n",
        "from itertools import chain\n",
        "\n",
        "if sys.version_info < (3, 0):\n",
        "   sys.exit(\"\"\"Sorry, requires Python 3.x, not Python 2.x.\"\"\")\n",
        "\n",
        "class Graph:\n",
        "\n",
        "    def __init__(self, vertices):\n",
        "        self.vertices = vertices\n",
        "        self.n = len(vertices)\n",
        "\n",
        "    def x(self, v):\n",
        "        return self.vertices[v][0]\n",
        "\n",
        "    def y(self, v):\n",
        "        return self.vertices[v][1]\n",
        "\n",
        "    # Lookup table for distances\n",
        "    _d_lookup = {}\n",
        "\n",
        "    def d(self, u, v):\n",
        "        \"\"\"Euclidean Metric d_2((x1, y1), (x2, y2))\"\"\"\n",
        "\n",
        "        # Check if the distance was computed before\n",
        "        if (u, v) in self._d_lookup:\n",
        "            return self._d_lookup[(u, v)]\n",
        "\n",
        "        # Otherwise compute it\n",
        "        _distance = math.sqrt((u[0] - v[0])**2 + (u[1] - v[1])**2)\n",
        "\n",
        "        # Add to dictionary\n",
        "        self._d_lookup[(u, v)], self._d_lookup[(v, u)] = _distance, _distance\n",
        "        return _distance\n",
        "\n",
        "    def plot(self, tour=None):\n",
        "        \"\"\"Plots the cities and superimposes given tour\"\"\"\n",
        "        if tour is None:\n",
        "            tour = Tour(self, [])\n",
        "\n",
        "        _vertices = [self.vertices[0]]\n",
        "\n",
        "        for i in tour.vertices:\n",
        "            _vertices.append(self.vertices[i])\n",
        "\n",
        "        _vertices.append(self.vertices[0])\n",
        "\n",
        "        plt.title(\"Cost = \" + str(tour.cost()))\n",
        "        plt.plot(*zip(*_vertices), '-r')\n",
        "        plt.scatter(*zip(*self.vertices), c=\"b\", s=10, marker=\"s\")\n",
        "        plt.show()\n",
        "\n",
        "\n",
        "##### Calculates the distance of a given (full) path\n",
        "class Tour:\n",
        "\n",
        "    def __init__(self, g, vertices = None):\n",
        "        \"\"\"Generate random tour in given graph g\"\"\"\n",
        "\n",
        "        self.g = g\n",
        "\n",
        "        if vertices is None:\n",
        "            self.vertices = list(range(1, g.n))\n",
        "            random.shuffle(self.vertices)\n",
        "        else:\n",
        "            self.vertices = vertices\n",
        "\n",
        "        self.__cost = None\n",
        "\n",
        "    def cost(self):\n",
        "        \"\"\"Return total edge-cost of tour\"\"\"\n",
        "\n",
        "        if self.__cost is None:\n",
        "            self.__cost = 0\n",
        "            for i, j in zip([0] + self.vertices, self.vertices + [0]):\n",
        "                self.__cost += self.g.d(self.g.vertices[i], self.g.vertices[j])\n",
        "        return self.__cost\n",
        "\n",
        "##### Main GA parameters (Probability of creating each type of child)\n",
        "class GeneticAlgorithm:\n",
        "\n",
        "    def __init__(self, g, population_size, k=5, elite_mating_rate=0.5,\n",
        "                 mutation_rate=0.015, mutation_swap_rate=0.2):   #Probability of each type of child being created\n",
        "        \"\"\"Initialises algorithm parameters\"\"\"\n",
        "\n",
        "        self.g = g\n",
        "        \n",
        "        self.population = []\n",
        "        for _ in range(population_size):\n",
        "            self.population.append(Tour(g))\n",
        "\n",
        "        self.population_size = population_size\n",
        "        self.k = k\n",
        "        self.elite_mating_rate = elite_mating_rate\n",
        "        self.mutation_rate = mutation_rate\n",
        "        self.mutation_swap_rate = mutation_swap_rate\n",
        "\n",
        "##### Crossover - as described in Teaching Material (Week 10 = AI)\n",
        "    def crossover(self, mum, dad):\n",
        "        \"\"\"Implements ordered crossover\"\"\"\n",
        "\n",
        "        size = len(mum.vertices)\n",
        "\n",
        "        # Choose random start/end position for crossover\n",
        "        alice, bob = [-1] * size, [-1] * size\n",
        "        start, end = sorted([random.randrange(size) for _ in range(2)])\n",
        "\n",
        "        # Replicate mum's sequence for alice, dad's sequence for bob\n",
        "        for i in range(start, end + 1):\n",
        "            alice[i] = mum.vertices[i]\n",
        "            bob[i] = dad.vertices[i]\n",
        "\n",
        "        # Fill the remaining position with the other parents' entries\n",
        "        current_dad_position, current_mum_position = 0, 0\n",
        "\n",
        "        for i in chain(range(start), range(end + 1, size)):\n",
        "\n",
        "            while dad.vertices[current_dad_position] in alice:\n",
        "                current_dad_position += 1\n",
        "\n",
        "            while mum.vertices[current_mum_position] in bob:\n",
        "                current_mum_position += 1\n",
        "\n",
        "            alice[i] = dad.vertices[current_dad_position]\n",
        "            bob[i] = mum.vertices[current_mum_position]\n",
        "\n",
        "        # Return twins\n",
        "        return Tour(self.g, alice), Tour(self.g, bob)\n",
        "\n",
        "##### Mutation - as done in TSP_HillClimb.py and described in Teaching Material (Week 9)\n",
        "    def mutate(self, tour):\n",
        "        \"\"\"Randomly swaps pairs of cities in a given tour according to mutation rate\"\"\"\n",
        "\n",
        "        # Decide whether to mutate\n",
        "        if random.random() < self.mutation_rate:\n",
        "\n",
        "            # For each vertex\n",
        "            for i in range(len(tour.vertices)):\n",
        "\n",
        "                # Randomly decide whether to swap\n",
        "                if random.random() < self.mutation_swap_rate:\n",
        "\n",
        "                    # Randomly choose other city position\n",
        "                    j = random.randrange(len(tour.vertices))\n",
        "\n",
        "                    # Swap\n",
        "                    tour.vertices[i], tour.vertices[j] = tour.vertices[j], tour.vertices[i]\n",
        "\n",
        "##### Selects the fittest parents\n",
        "    def select_parent(self, k):\n",
        "        \"\"\"Implements k-tournament selection to choose parents\"\"\"\n",
        "        tournament = random.sample(self.population, k)\n",
        "        return max(tournament, key=lambda t: t.cost())\n",
        "\n",
        "##### Checks fitness of parents/child and creates new population\n",
        "    def evolve(self):\n",
        "        \"\"\"Executes one iteration of the genetic algorithm to obtain a new generation\"\"\"\n",
        "\n",
        "        new_population = []\n",
        "\n",
        "        for _ in range(self.population_size):\n",
        "\n",
        "            # K-tournament for parents\n",
        "            mum, dad = self.select_parent(self.k), self.select_parent(self.k)\n",
        "            alice, bob = self.crossover(mum, dad)\n",
        "\n",
        "            # Mate in an elite fashion according to the elitism_rate\n",
        "            if random.random() < self.elite_mating_rate:\n",
        "                if alice.cost() < mum.cost() or alice.cost() < dad.cost():\n",
        "                    new_population.append(alice)\n",
        "                if bob.cost() < mum.cost() or bob.cost() < dad.cost():\n",
        "                    new_population.append(bob)\n",
        "\n",
        "            else:\n",
        "                self.mutate(alice)\n",
        "                self.mutate(bob)\n",
        "                new_population += [alice, bob]\n",
        "\n",
        "        # Add new population to old\n",
        "        self.population += new_population\n",
        "\n",
        "        # Retain fittest\n",
        "        self.population = heapq.nsmallest(self.population_size, self.population, key=lambda t: t.cost())\n",
        "\n",
        "###########################################################################\n",
        "##### IMPORTANT ##### number of generations\n",
        "\n",
        "    def run(self, iterations=200):  #Number of Generations: more = better, but takes longer\n",
        "        for _ in range(iterations):\n",
        "            self.evolve()\n",
        "\n",
        "    def best(self):\n",
        "        return max(self.population, key=lambda t: t.cost())\n",
        "\n",
        "###########################################################################\n",
        "# 10,12,20,23,w1\n",
        "g = Graph([(19.9906676704456,79.6926263050003),(14.031734193723,65.4926922540545),\t\t\t\n",
        "(10.8797000941924,72.5752467820306),\n",
        "(2.11897096450746,86.5148544660837),\t\t\t\n",
        "(0.435979595346347,42.0535838452666),])\n",
        "\n",
        "###########################################################################\n",
        "##### IMPORTANT ##### population size\n",
        "\n",
        "ga = GeneticAlgorithm(g, 100)    #Inputs (graph co-ordinates, POPULATION SIZE)  more = better, but takes longer\n",
        "ga.run()\n",
        "\n",
        "\n",
        "########## Output\n",
        "best_tour = ga.best()\n",
        "g.plot(best_tour)   #Plots the path on a graph\n",
        "\n",
        "best_path = best_tour.vertices\n",
        "size = len (g.vertices)\n",
        "for i in range(size-1):\n",
        "    best_path[i]=best_path[i]+1   #Must +1 to nodes to chnage numbering from (0,n-1) to (1,n)\n",
        "best_path.insert(0,1)   #Adds start node to the list\n",
        "print(best_path,best_tour._Tour__cost)   #Prints the best path and distance\n",
        "#12,20,23,4"
      ],
      "metadata": {
        "id": "nknc2lG6KpSq",
        "colab": {
          "base_uri": "https://localhost:8080/",
          "height": 298
        },
        "outputId": "54909314-da48-4551-f8de-b44d6abc6535"
      },
      "execution_count": 81,
      "outputs": [
        {
          "output_type": "display_data",
          "data": {
            "text/plain": [
              "<Figure size 432x288 with 1 Axes>"
            ],
            "image/png": "[encoded data removed]"
          },
          "metadata": {
            "needs_background": "light"
          }
        },
        {
          "output_type": "stream",
          "name": "stdout",
          "text": [
            "[1, 3, 2, 5, 4] 110.03319557595357\n"
          ]
        }
      ]
    },
    {
      "cell_type": "code",
      "source": [
        ""
      ],
      "metadata": {
        "id": "KNMtTkLEJOiq"
      },
      "execution_count": 33,
      "outputs": []
    },
    {
      "cell_type": "code",
      "source": [
        "###Example of a Genetic Algirthm for TSP - RECOMMEND YOU ONLY CHANGE THE PARTS NEAR END (HIGHLIGHTED)\n",
        "\n",
        "import sys, math, random, heapq\n",
        "import matplotlib.pyplot as plt\n",
        "from itertools import chain\n",
        "\n",
        "if sys.version_info < (3, 0):\n",
        "   sys.exit(\"\"\"Sorry, requires Python 3.x, not Python 2.x.\"\"\")\n",
        "\n",
        "class Graph:\n",
        "\n",
        "    def __init__(self, vertices):\n",
        "        self.vertices = vertices\n",
        "        self.n = len(vertices)\n",
        "\n",
        "    def x(self, v):\n",
        "        return self.vertices[v][0]\n",
        "\n",
        "    def y(self, v):\n",
        "        return self.vertices[v][1]\n",
        "\n",
        "    # Lookup table for distances\n",
        "    _d_lookup = {}\n",
        "\n",
        "    def d(self, u, v):\n",
        "        \"\"\"Euclidean Metric d_2((x1, y1), (x2, y2))\"\"\"\n",
        "\n",
        "        # Check if the distance was computed before\n",
        "        if (u, v) in self._d_lookup:\n",
        "            return self._d_lookup[(u, v)]\n",
        "\n",
        "        # Otherwise compute it\n",
        "        _distance = math.sqrt((u[0] - v[0])**2 + (u[1] - v[1])**2)\n",
        "\n",
        "        # Add to dictionary\n",
        "        self._d_lookup[(u, v)], self._d_lookup[(v, u)] = _distance, _distance\n",
        "        return _distance\n",
        "\n",
        "    def plot(self, tour=None):\n",
        "        \"\"\"Plots the cities and superimposes given tour\"\"\"\n",
        "        if tour is None:\n",
        "            tour = Tour(self, [])\n",
        "\n",
        "        _vertices = [self.vertices[0]]\n",
        "\n",
        "        for i in tour.vertices:\n",
        "            _vertices.append(self.vertices[i])\n",
        "\n",
        "        _vertices.append(self.vertices[0])\n",
        "\n",
        "        plt.title(\"Cost = \" + str(tour.cost()))\n",
        "        plt.plot(*zip(*_vertices), '-r')\n",
        "        plt.scatter(*zip(*self.vertices), c=\"b\", s=10, marker=\"s\")\n",
        "        plt.show()\n",
        "\n",
        "\n",
        "##### Calculates the distance of a given (full) path\n",
        "class Tour:\n",
        "\n",
        "    def __init__(self, g, vertices = None):\n",
        "        \"\"\"Generate random tour in given graph g\"\"\"\n",
        "\n",
        "        self.g = g\n",
        "\n",
        "        if vertices is None:\n",
        "            self.vertices = list(range(1, g.n))\n",
        "            random.shuffle(self.vertices)\n",
        "        else:\n",
        "            self.vertices = vertices\n",
        "\n",
        "        self.__cost = None\n",
        "\n",
        "    def cost(self):\n",
        "        \"\"\"Return total edge-cost of tour\"\"\"\n",
        "\n",
        "        if self.__cost is None:\n",
        "            self.__cost = 0\n",
        "            for i, j in zip([0] + self.vertices, self.vertices + [0]):\n",
        "                self.__cost += self.g.d(self.g.vertices[i], self.g.vertices[j])\n",
        "        return self.__cost\n",
        "\n",
        "##### Main GA parameters (Probability of creating each type of child)\n",
        "class GeneticAlgorithm:\n",
        "\n",
        "    def __init__(self, g, population_size, k=5, elite_mating_rate=0.5,\n",
        "                 mutation_rate=0.015, mutation_swap_rate=0.2):   #Probability of each type of child being created\n",
        "        \"\"\"Initialises algorithm parameters\"\"\"\n",
        "\n",
        "        self.g = g\n",
        "        \n",
        "        self.population = []\n",
        "        for _ in range(population_size):\n",
        "            self.population.append(Tour(g))\n",
        "\n",
        "        self.population_size = population_size\n",
        "        self.k = k\n",
        "        self.elite_mating_rate = elite_mating_rate\n",
        "        self.mutation_rate = mutation_rate\n",
        "        self.mutation_swap_rate = mutation_swap_rate\n",
        "\n",
        "##### Crossover - as described in Teaching Material (Week 10 = AI)\n",
        "    def crossover(self, mum, dad):\n",
        "        \"\"\"Implements ordered crossover\"\"\"\n",
        "\n",
        "        size = len(mum.vertices)\n",
        "\n",
        "        # Choose random start/end position for crossover\n",
        "        alice, bob = [-1] * size, [-1] * size\n",
        "        start, end = sorted([random.randrange(size) for _ in range(2)])\n",
        "\n",
        "        # Replicate mum's sequence for alice, dad's sequence for bob\n",
        "        for i in range(start, end + 1):\n",
        "            alice[i] = mum.vertices[i]\n",
        "            bob[i] = dad.vertices[i]\n",
        "\n",
        "        # Fill the remaining position with the other parents' entries\n",
        "        current_dad_position, current_mum_position = 0, 0\n",
        "\n",
        "        for i in chain(range(start), range(end + 1, size)):\n",
        "\n",
        "            while dad.vertices[current_dad_position] in alice:\n",
        "                current_dad_position += 1\n",
        "\n",
        "            while mum.vertices[current_mum_position] in bob:\n",
        "                current_mum_position += 1\n",
        "\n",
        "            alice[i] = dad.vertices[current_dad_position]\n",
        "            bob[i] = mum.vertices[current_mum_position]\n",
        "\n",
        "        # Return twins\n",
        "        return Tour(self.g, alice), Tour(self.g, bob)\n",
        "\n",
        "##### Mutation - as done in TSP_HillClimb.py and described in Teaching Material (Week 9)\n",
        "    def mutate(self, tour):\n",
        "        \"\"\"Randomly swaps pairs of cities in a given tour according to mutation rate\"\"\"\n",
        "\n",
        "        # Decide whether to mutate\n",
        "        if random.random() < self.mutation_rate:\n",
        "\n",
        "            # For each vertex\n",
        "            for i in range(len(tour.vertices)):\n",
        "\n",
        "                # Randomly decide whether to swap\n",
        "                if random.random() < self.mutation_swap_rate:\n",
        "\n",
        "                    # Randomly choose other city position\n",
        "                    j = random.randrange(len(tour.vertices))\n",
        "\n",
        "                    # Swap\n",
        "                    tour.vertices[i], tour.vertices[j] = tour.vertices[j], tour.vertices[i]\n",
        "\n",
        "##### Selects the fittest parents\n",
        "    def select_parent(self, k):\n",
        "        \"\"\"Implements k-tournament selection to choose parents\"\"\"\n",
        "        tournament = random.sample(self.population, k)\n",
        "        return max(tournament, key=lambda t: t.cost())\n",
        "\n",
        "##### Checks fitness of parents/child and creates new population\n",
        "    def evolve(self):\n",
        "        \"\"\"Executes one iteration of the genetic algorithm to obtain a new generation\"\"\"\n",
        "\n",
        "        new_population = []\n",
        "\n",
        "        for _ in range(self.population_size):\n",
        "\n",
        "            # K-tournament for parents\n",
        "            mum, dad = self.select_parent(self.k), self.select_parent(self.k)\n",
        "            alice, bob = self.crossover(mum, dad)\n",
        "\n",
        "            # Mate in an elite fashion according to the elitism_rate\n",
        "            if random.random() < self.elite_mating_rate:\n",
        "                if alice.cost() < mum.cost() or alice.cost() < dad.cost():\n",
        "                    new_population.append(alice)\n",
        "                if bob.cost() < mum.cost() or bob.cost() < dad.cost():\n",
        "                    new_population.append(bob)\n",
        "\n",
        "            else:\n",
        "                self.mutate(alice)\n",
        "                self.mutate(bob)\n",
        "                new_population += [alice, bob]\n",
        "\n",
        "        # Add new population to old\n",
        "        self.population += new_population\n",
        "\n",
        "        # Retain fittest\n",
        "        self.population = heapq.nsmallest(self.population_size, self.population, key=lambda t: t.cost())\n",
        "\n",
        "###########################################################################\n",
        "##### IMPORTANT ##### number of generations\n",
        "\n",
        "    def run(self, iterations=200):  #Number of Generations: more = better, but takes longer\n",
        "        for _ in range(iterations):\n",
        "            self.evolve()\n",
        "\n",
        "    def best(self):\n",
        "        return max(self.population, key=lambda t: t.cost())\n",
        "\n",
        "###########################################################################\n",
        "\n",
        "g = Graph([(19.9906676704456,79.6926263050003),\n",
        "           (2.76790974222021,71.1176072605653), \n",
        "           (18.6794883893845,67.2743901634899),\n",
        "           (32.7323075124292,86.2753678010589),\t\n",
        "           (37.8697820230032,92.5591094904637),])\n",
        "\n",
        "###########################################################################\n",
        "##### IMPORTANT ##### population size\n",
        "\n",
        "ga = GeneticAlgorithm(g, 100)    #Inputs (graph co-ordinates, POPULATION SIZE)  more = better, but takes longer\n",
        "ga.run()\n",
        "\n",
        "\n",
        "########## Output\n",
        "best_tour = ga.best()\n",
        "g.plot(best_tour)   #Plots the path on a graph\n",
        "\n",
        "best_path = best_tour.vertices\n",
        "size = len (g.vertices)\n",
        "for i in range(size-1):\n",
        "    best_path[i]=best_path[i]+1   #Must +1 to nodes to chnage numbering from (0,n-1) to (1,n)\n",
        "best_path.insert(0,1)   #Adds start node to the list\n",
        "print(best_path,best_tour._Tour__cost)   #Prints the best path and distance\n"
      ],
      "metadata": {
        "colab": {
          "base_uri": "https://localhost:8080/",
          "height": 298
        },
        "id": "xinf1Nh-F2C3",
        "outputId": "8b21d804-dabb-400c-df20-1e480dbc540d"
      },
      "execution_count": 82,
      "outputs": [
        {
          "output_type": "display_data",
          "data": {
            "text/plain": [
              "<Figure size 432x288 with 1 Axes>"
            ],
            "image/png": "[encoded data removed]"
          },
          "metadata": {
            "needs_background": "light"
          }
        },
        {
          "output_type": "stream",
          "name": "stdout",
          "text": [
            "[1, 2, 3, 4, 5] 89.38559087423828\n"
          ]
        }
      ]
    },
    {
      "cell_type": "code",
      "source": [
        ""
      ],
      "metadata": {
        "id": "yv3RTk5aRWCT"
      },
      "execution_count": null,
      "outputs": []
    },
    {
      "cell_type": "code",
      "source": [
        "303*2 + 200"
      ],
      "metadata": {
        "id": "Ellpr0C-RWFu"
      },
      "execution_count": null,
      "outputs": []
    },
    {
      "cell_type": "code",
      "source": [
        ""
      ],
      "metadata": {
        "id": "oLAaHL4YRW3g"
      },
      "execution_count": null,
      "outputs": []
    },
    {
      "cell_type": "code",
      "source": [
        ""
      ],
      "metadata": {
        "id": "PmzS3NZDRW8H"
      },
      "execution_count": null,
      "outputs": []
    },
    {
      "cell_type": "code",
      "source": [
        ""
      ],
      "metadata": {
        "id": "y2l19EUaRXAP"
      },
      "execution_count": null,
      "outputs": []
    },
    {
      "cell_type": "code",
      "source": [
        "(2.76790974222021,71.1176072605653), # 5\n",
        "(18.6794883893845,67.2743901634899), # 6\t\t\n",
        "(32.7323075124292,86.2753678010589), # 16\t\n",
        "(37.8697820230032,92.5591094904637), # 18\n",
        "(19.9906676704456,79.6926263050003)]) # w1"
      ],
      "metadata": {
        "id": "0zpkk0tfFzFm"
      },
      "execution_count": null,
      "outputs": []
    },
    {
      "cell_type": "code",
      "source": [
        "(2.76790974222021,71.1176072605653),\t\t\t\n",
        "(18.6794883893845,67.2743901634899),\t\t\t\n",
        "(94.1041534254341,12.2284468976924),\t\t\t\n",
        "(10.8797000941924,72.5752467820306),\t\t\t\n",
        "(32.7323075124292,86.2753678010589),\t\t\t\n",
        "(37.8697820230032,92.5591094904637),\t\t\t\n",
        "(2.11897096450746,86.5148544660837),\t\t\t\n",
        "(0.435979595346347,42.0535838452666),\t\t\t\n",
        "(19.9906676704456,79.6926263050003)"
      ],
      "metadata": {
        "id": "9f31MdWtKpQU"
      },
      "execution_count": null,
      "outputs": []
    },
    {
      "cell_type": "code",
      "source": [
        ""
      ],
      "metadata": {
        "id": "X-Pgb_vbKpN3"
      },
      "execution_count": null,
      "outputs": []
    },
    {
      "cell_type": "code",
      "source": [
        ""
      ],
      "metadata": {
        "id": "75EYZetPKpLA"
      },
      "execution_count": null,
      "outputs": []
    },
    {
      "cell_type": "code",
      "execution_count": null,
      "metadata": {
        "id": "hCCgmje1EU9i",
        "outputId": "5c6ee5d3-d793-43fa-84b2-2fbffbbfca90",
        "colab": {
          "base_uri": "https://localhost:8080/"
        }
      },
      "outputs": [
        {
          "output_type": "stream",
          "name": "stdout",
          "text": [
            "second xbest 2.1187724558072136 ybest 2.8053257693194364 zbest 9.160263842979349 ubest 10.830754807749305 vbest 4.809112874237624 abest 2 bbest 2 cbest 3 dbest 0 ebest 11 fbest 3250.7948995937622\n",
            "second xbest 2.1187724558072136 ybest 2.8053257693194364 zbest 9.160263842979349 ubest 10.830754807749305 vbest 4.809112874237624 abest 1 bbest 0 cbest 1 dbest 3 ebest 16 fbest 3250.7948995937622\n",
            "second xbest 2.1187724558072136 ybest 2.8053257693194364 zbest 9.160263842979349 ubest 10.830754807749305 vbest 4.809112874237624 abest 2 bbest 1 cbest 1 dbest 5 ebest 8 fbest 3250.7948995937622\n",
            "second xbest 2.1187724558072136 ybest 2.8053257693194364 zbest 9.160263842979349 ubest 10.830754807749305 vbest 4.809112874237624 abest 5 bbest 4 cbest 3 dbest 0 ebest 13 fbest 3250.7948995937622\n",
            "second xbest 2.1187724558072136 ybest 2.8053257693194364 zbest 9.160263842979349 ubest 10.830754807749305 vbest 4.809112874237624 abest 4 bbest 4 cbest 3 dbest 1 ebest 18 fbest 3250.7948995937622\n",
            "second xbest 2.1187724558072136 ybest 2.8053257693194364 zbest 9.160263842979349 ubest 10.830754807749305 vbest 4.809112874237624 abest 1 bbest 1 cbest 2 dbest 5 ebest 18 fbest 3250.7948995937622\n",
            "second xbest 2.1187724558072136 ybest 2.8053257693194364 zbest 9.160263842979349 ubest 10.830754807749305 vbest 4.809112874237624 abest 5 bbest 2 cbest 2 dbest 1 ebest 15 fbest 3250.7948995937622\n",
            "second xbest 2.1187724558072136 ybest 2.8053257693194364 zbest 9.160263842979349 ubest 10.830754807749305 vbest 4.809112874237624 abest 0 bbest 2 cbest 3 dbest 3 ebest 13 fbest 3250.7948995937622\n",
            "second xbest 2.1187724558072136 ybest 2.8053257693194364 zbest 9.160263842979349 ubest 10.830754807749305 vbest 4.809112874237624 abest 0 bbest 0 cbest 2 dbest 2 ebest 10 fbest 3250.7948995937622\n",
            "second xbest 2.1187724558072136 ybest 2.8053257693194364 zbest 9.160263842979349 ubest 10.830754807749305 vbest 4.809112874237624 abest 5 bbest 2 cbest 0 dbest 1 ebest 14 fbest 3250.7948995937622\n",
            "second xbest 2.1187724558072136 ybest 2.8053257693194364 zbest 9.160263842979349 ubest 10.830754807749305 vbest 4.809112874237624 abest 0 bbest 4 cbest 1 dbest 4 ebest 14 fbest 3250.7948995937622\n",
            "second xbest 2.1187724558072136 ybest 2.8053257693194364 zbest 9.160263842979349 ubest 10.830754807749305 vbest 4.809112874237624 abest 1 bbest 0 cbest 1 dbest 0 ebest 12 fbest 3250.7948995937622\n",
            "second xbest 2.1187724558072136 ybest 2.8053257693194364 zbest 9.160263842979349 ubest 10.830754807749305 vbest 4.809112874237624 abest 2 bbest 2 cbest 3 dbest 7 ebest 16 fbest 3250.7948995937622\n",
            "second xbest 2.1187724558072136 ybest 2.8053257693194364 zbest 9.160263842979349 ubest 10.830754807749305 vbest 4.809112874237624 abest 2 bbest 4 cbest 1 dbest 7 ebest 17 fbest 3250.7948995937622\n",
            "second xbest 2.1187724558072136 ybest 2.8053257693194364 zbest 9.160263842979349 ubest 10.830754807749305 vbest 4.809112874237624 abest 4 bbest 3 cbest 3 dbest 1 ebest 14 fbest 3250.7948995937622\n",
            "second xbest 2.1187724558072136 ybest 2.8053257693194364 zbest 9.160263842979349 ubest 10.830754807749305 vbest 4.809112874237624 abest 4 bbest 4 cbest 3 dbest 8 ebest 13 fbest 3250.7948995937622\n",
            "second xbest 2.1187724558072136 ybest 2.8053257693194364 zbest 9.160263842979349 ubest 10.830754807749305 vbest 4.809112874237624 abest 0 bbest 0 cbest 1 dbest 4 ebest 12 fbest 3250.7948995937622\n",
            "second xbest 2.1187724558072136 ybest 2.8053257693194364 zbest 9.160263842979349 ubest 10.830754807749305 vbest 4.809112874237624 abest 0 bbest 4 cbest 0 dbest 8 ebest 11 fbest 3250.7948995937622\n",
            "second xbest 2.1187724558072136 ybest 2.8053257693194364 zbest 9.160263842979349 ubest 10.830754807749305 vbest 4.809112874237624 abest 0 bbest 4 cbest 3 dbest 2 ebest 16 fbest 3250.7948995937622\n",
            "second xbest 2.1187724558072136 ybest 2.8053257693194364 zbest 9.160263842979349 ubest 10.830754807749305 vbest 4.809112874237624 abest 5 bbest 4 cbest 1 dbest 1 ebest 16 fbest 3250.7948995937622\n"
          ]
        },
        {
          "output_type": "execute_result",
          "data": {
            "text/plain": [
              "3250.7948995937622"
            ]
          },
          "metadata": {},
          "execution_count": 45
        }
      ],
      "source": [
        "import random\n",
        "import numpy\n",
        "import math\n",
        "number_hill_climbs = 20\n",
        "steps = 100\n",
        "empty = []\n",
        "for j in range(number_hill_climbs):\n",
        "    a = 12\n",
        "    b = 14\n",
        "    c = 16\n",
        "    d = 6\n",
        "    e = 11\n",
        "    \n",
        "    \n",
        "    x = 2.1187724558072136\n",
        "    y = 2.8053257693194364\n",
        "    z = 9.160263842979349\n",
        "    u = 10.830754807749305\n",
        "    v = 4.809112874237624\n",
        "    fbest = 11*u*e + 3*a*x + 5*b*y + 10*c*z + 7*v*d\n",
        "   #print(fbest)\n",
        "    for i in range(1,2000):\n",
        "        an = 0*random.randint(5,10) + random.randrange(6)\n",
        "        bn = 0*random.randint(7,11) + random.randrange(5)\n",
        "        cn = 0*random.randint(10,13)+ random.randrange(4)\n",
        "        dn = 0*random.randint(3,11) + random.randrange(9)\n",
        "        en = random.randint(7,13) + random.randrange(7)\n",
        "        \n",
        "        xn = 0*random.random() #+ random.gauss(0,0.01)\n",
        "        yn = 0*random.random() +3#+ random.gauss(0,0.01)\n",
        "        zn = 0*random.random() +3#+ random.gauss(0,0.01)\n",
        "        un = 0*random.random() +3#+ random.gauss(0,0.01)\n",
        "        vn = 0*random.random() +3#+ random.gauss(0,0.01)\n",
        "                      \n",
        "        if((xn>=5 and xn<=10) and (yn>=5 and yn<=10) and (zn>=10 and zn<=13) \\\n",
        "           and (un>=11 and un<=17) and (vn>=11 and vn<=19) \\\n",
        "           and (xn + yn+zn+un+vn<=20) and (an>=5 and an<=10) and (bn>=7 and bn<=11) and (cn>=10 and cn<=13) \\\n",
        "           and (dn>=3 and dn<=11) and (en>=7 and en<=11) and (an+bn+cn+dn+en<=40)) :\n",
        "\n",
        "            fnew = 11*un*en + 3*an*xn + 5*bn*yn + 10*cn*zn + 7*vn*dn\n",
        "            if fnew > fbest:\n",
        "                x = xn\n",
        "                y = yn\n",
        "                z = zn\n",
        "                u = un\n",
        "                v = vn\n",
        "                \n",
        "                a = an\n",
        "                b = bn\n",
        "                c = cn\n",
        "                d = dn\n",
        "                e = en\n",
        "                fbest = fnew\n",
        "     #   print ('first','xbest' , x, 'ybest' , y, 'zbest', z,'ubest'\n",
        "         #  , u, 'vbest' , v, 'abest', an,'bbest', bn,'cbest'\n",
        "         #  , cn,'dbest', dn,'ebest', en, 'fbest', fbest)\n",
        "    empty.append(fbest)\n",
        "    print ('second','xbest' , x, 'ybest' , y, 'zbest', z,'ubest'\n",
        "           , u, 'vbest' , v, 'abest', an,'bbest', bn,'cbest'\n",
        "           , cn,'dbest', dn,'ebest', en, 'fbest', fbest)\n",
        "   # print ('xbest' , x, 'ybest' , y, 'zbest', z, 'fbest', fbest)          \n",
        "#print ('last','xbest' , x, 'ybest' , y, 'zbest', z, 'fbest', fbest)\n",
        "max(empty)"
      ]
    },
    {
      "cell_type": "code",
      "source": [
        "xn = random.gauss(1,0.02)\n",
        "xn"
      ],
      "metadata": {
        "colab": {
          "base_uri": "https://localhost:8080/"
        },
        "id": "2oGcH3Y6AiLH",
        "outputId": "c9cf9801-0f4b-4e6b-ca4d-5e4bd2cb6495"
      },
      "execution_count": null,
      "outputs": [
        {
          "output_type": "execute_result",
          "data": {
            "text/plain": [
              "1.0022967137079979"
            ]
          },
          "metadata": {},
          "execution_count": 42
        }
      ]
    },
    {
      "cell_type": "code",
      "source": [
        "xn"
      ],
      "metadata": {
        "colab": {
          "base_uri": "https://localhost:8080/"
        },
        "id": "hJKxtiCoAm2X",
        "outputId": "0514910d-6070-4e4e-8d94-344c3a23c3ab"
      },
      "execution_count": null,
      "outputs": [
        {
          "output_type": "execute_result",
          "data": {
            "text/plain": [
              "5.579394447226051"
            ]
          },
          "metadata": {},
          "execution_count": 11
        }
      ]
    },
    {
      "cell_type": "code",
      "source": [
        "# Importing libraries\n",
        "import matplotlib.pyplot as plt\n",
        "import numpy as np\n",
        "import math\n",
        "\n",
        "# Using Numpy to create an array X\n",
        "#X = np.arange(0, math.pi*2, 0.05)\n",
        "a = np.arange(0, 10, 1)\n",
        "u = np.arange(0, 20, 2)\n",
        "c = np.arange(0, 10, 1)\n",
        "y = np.arange(0, 10, 1)\n",
        "s = np.arange(0, 10, 1)\n",
        "t = np.arange(0, 10, 1)\n",
        "\n",
        "# Assign variables to the y axis part of the curve\n",
        "B = 3*u*c+4*y*a +5*s*t\n",
        "\n",
        "# Plotting both the curves simultaneously\n",
        "#plt.plot(X, y, color='r', label='sin')\n",
        "plt.plot(B, u, color='y', label='cos')\n",
        "#plt.plot(B, a, color='g', label='cos')\n",
        "plt.plot(B, y, color='b', label='cos')\n",
        "plt.plot(B, t, color='y', label='cos')\n",
        "plt.plot(B, s, color='y', label='cos')\n",
        "\n",
        "plt.plot(B, c, color='r', label='cos')\n",
        "plt.plot(B, a, color='g', label='cos')\n",
        "plt.plot(B, c, color='r', label='cos')\n",
        "\n",
        "\n",
        "\n",
        "\n",
        "# Naming the x-axis, y-axis and the whole graph\n",
        "plt.xlabel(\"Angle\")\n",
        "plt.ylabel(\"Magnitude\")\n",
        "plt.title(\"Sine and Cosine functions\")\n",
        "\n",
        "# Adding legend, which helps us recognize the curve according to it's color\n",
        "plt.legend()\n",
        "\n",
        "# To load the display window\n",
        "plt.show()\n"
      ],
      "metadata": {
        "colab": {
          "base_uri": "https://localhost:8080/",
          "height": 294
        },
        "id": "kbuu7HAORh8l",
        "outputId": "2888cd24-0c21-4137-f4fd-b7482716fe47"
      },
      "execution_count": null,
      "outputs": [
        {
          "output_type": "display_data",
          "data": {
            "text/plain": [
              "<Figure size 432x288 with 1 Axes>"
            ],
            "image/png": "[encoded data removed]"
          },
          "metadata": {
            "needs_background": "light"
          }
        }
      ]
    }
  ]
}